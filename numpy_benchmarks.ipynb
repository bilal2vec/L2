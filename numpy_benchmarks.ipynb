{
  "nbformat": 4,
  "nbformat_minor": 0,
  "metadata": {
    "colab": {
      "name": "Numpy benchmarks",
      "provenance": [],
      "collapsed_sections": [],
      "machine_shape": "hm",
      "authorship_tag": "ABX9TyNOwKvtANX/6AQvXCfi4i4H",
      "include_colab_link": true
    },
    "kernelspec": {
      "name": "python3",
      "display_name": "Python 3"
    }
  },
  "cells": [
    {
      "cell_type": "markdown",
      "metadata": {
        "id": "view-in-github",
        "colab_type": "text"
      },
      "source": [
        "<a href=\"https://colab.research.google.com/github/bkkaggle/L2/blob/v2/numpy_benchmarks.ipynb\" target=\"_parent\"><img src=\"https://colab.research.google.com/assets/colab-badge.svg\" alt=\"Open In Colab\"/></a>"
      ]
    },
    {
      "cell_type": "code",
      "metadata": {
        "id": "gTXFtNZU6ndU",
        "colab_type": "code",
        "colab": {}
      },
      "source": [
        "import numpy as np"
      ],
      "execution_count": 0,
      "outputs": []
    },
    {
      "cell_type": "code",
      "metadata": {
        "id": "QBPLr-49T0Xg",
        "colab_type": "code",
        "colab": {}
      },
      "source": [
        "x = np.zeros((512 * 512))"
      ],
      "execution_count": 0,
      "outputs": []
    },
    {
      "cell_type": "code",
      "metadata": {
        "id": "UYodsSGWiZwd",
        "colab_type": "code",
        "colab": {
          "base_uri": "https://localhost:8080/",
          "height": 51
        },
        "outputId": "4ead2b16-679d-4422-c91d-7d2cddbc6d3e"
      },
      "source": [
        "%%time\n",
        "x = np.zeros((512 * 512))"
      ],
      "execution_count": 3,
      "outputs": [
        {
          "output_type": "stream",
          "text": [
            "CPU times: user 513 µs, sys: 1.18 ms, total: 1.69 ms\n",
            "Wall time: 1.4 ms\n"
          ],
          "name": "stdout"
        }
      ]
    },
    {
      "cell_type": "code",
      "metadata": {
        "id": "wMNlXhPTimdD",
        "colab_type": "code",
        "colab": {
          "base_uri": "https://localhost:8080/",
          "height": 51
        },
        "outputId": "6bf5084d-ea26-4677-8acb-64093824eae3"
      },
      "source": [
        "%%time\n",
        "y = x[:128]"
      ],
      "execution_count": 4,
      "outputs": [
        {
          "output_type": "stream",
          "text": [
            "CPU times: user 7 µs, sys: 2 µs, total: 9 µs\n",
            "Wall time: 12.6 µs\n"
          ],
          "name": "stdout"
        }
      ]
    },
    {
      "cell_type": "code",
      "metadata": {
        "id": "keVi3xFzi1aj",
        "colab_type": "code",
        "colab": {
          "base_uri": "https://localhost:8080/",
          "height": 51
        },
        "outputId": "f3188bc5-6832-4830-9dd1-d291b2bcad37"
      },
      "source": [
        "%%time\n",
        "y = x[:512]"
      ],
      "execution_count": 5,
      "outputs": [
        {
          "output_type": "stream",
          "text": [
            "CPU times: user 9 µs, sys: 3 µs, total: 12 µs\n",
            "Wall time: 15 µs\n"
          ],
          "name": "stdout"
        }
      ]
    },
    {
      "cell_type": "code",
      "metadata": {
        "id": "dukHphhFi26B",
        "colab_type": "code",
        "colab": {
          "base_uri": "https://localhost:8080/",
          "height": 51
        },
        "outputId": "23ede52c-7860-4ae0-9568-1a35103dce7f"
      },
      "source": [
        "%%time\n",
        "y = x[:512*512]"
      ],
      "execution_count": 6,
      "outputs": [
        {
          "output_type": "stream",
          "text": [
            "CPU times: user 9 µs, sys: 3 µs, total: 12 µs\n",
            "Wall time: 14.5 µs\n"
          ],
          "name": "stdout"
        }
      ]
    },
    {
      "cell_type": "code",
      "metadata": {
        "id": "tkT4WMsRi63H",
        "colab_type": "code",
        "colab": {}
      },
      "source": [
        "x = np.zeros((512, 512))"
      ],
      "execution_count": 0,
      "outputs": []
    },
    {
      "cell_type": "code",
      "metadata": {
        "id": "G9mAvWM7i8Cw",
        "colab_type": "code",
        "colab": {
          "base_uri": "https://localhost:8080/",
          "height": 51
        },
        "outputId": "f0601283-9bed-4f17-8525-1a58b5e4e7f3"
      },
      "source": [
        "%%time\n",
        "y = x[0, :]"
      ],
      "execution_count": 8,
      "outputs": [
        {
          "output_type": "stream",
          "text": [
            "CPU times: user 150 µs, sys: 53 µs, total: 203 µs\n",
            "Wall time: 209 µs\n"
          ],
          "name": "stdout"
        }
      ]
    },
    {
      "cell_type": "code",
      "metadata": {
        "id": "tt-ovviEjC9C",
        "colab_type": "code",
        "colab": {
          "base_uri": "https://localhost:8080/",
          "height": 51
        },
        "outputId": "f0a47c2b-0c68-4cca-d59a-cd35a50baac3"
      },
      "source": [
        "%%time\n",
        "y = x[:, 0]"
      ],
      "execution_count": 9,
      "outputs": [
        {
          "output_type": "stream",
          "text": [
            "CPU times: user 10 µs, sys: 3 µs, total: 13 µs\n",
            "Wall time: 16.2 µs\n"
          ],
          "name": "stdout"
        }
      ]
    },
    {
      "cell_type": "code",
      "metadata": {
        "id": "D-gsMazKjElx",
        "colab_type": "code",
        "colab": {
          "base_uri": "https://localhost:8080/",
          "height": 51
        },
        "outputId": "e90ddab7-82dc-4933-faa3-9fb958f94664"
      },
      "source": [
        "%%time\n",
        "y = x[:64, :64]"
      ],
      "execution_count": 10,
      "outputs": [
        {
          "output_type": "stream",
          "text": [
            "CPU times: user 10 µs, sys: 4 µs, total: 14 µs\n",
            "Wall time: 16.2 µs\n"
          ],
          "name": "stdout"
        }
      ]
    },
    {
      "cell_type": "code",
      "metadata": {
        "id": "ad_tCNAjjLO_",
        "colab_type": "code",
        "colab": {
          "base_uri": "https://localhost:8080/",
          "height": 51
        },
        "outputId": "d0165586-7f7a-4294-e2f0-789d865bfa77"
      },
      "source": [
        "%%time\n",
        "y = x[:128, :128]"
      ],
      "execution_count": 11,
      "outputs": [
        {
          "output_type": "stream",
          "text": [
            "CPU times: user 9 µs, sys: 3 µs, total: 12 µs\n",
            "Wall time: 15.3 µs\n"
          ],
          "name": "stdout"
        }
      ]
    },
    {
      "cell_type": "code",
      "metadata": {
        "id": "4nqyTEfmjN0P",
        "colab_type": "code",
        "colab": {
          "base_uri": "https://localhost:8080/",
          "height": 51
        },
        "outputId": "d4a94d94-5026-44ac-c198-69793a760d7f"
      },
      "source": [
        "%%time\n",
        "y = x[:256, :256]"
      ],
      "execution_count": 12,
      "outputs": [
        {
          "output_type": "stream",
          "text": [
            "CPU times: user 8 µs, sys: 3 µs, total: 11 µs\n",
            "Wall time: 14.5 µs\n"
          ],
          "name": "stdout"
        }
      ]
    },
    {
      "cell_type": "code",
      "metadata": {
        "id": "BrWzxOAZjQFP",
        "colab_type": "code",
        "colab": {
          "base_uri": "https://localhost:8080/",
          "height": 51
        },
        "outputId": "146f92c9-a011-4179-8fc1-88a97a315360"
      },
      "source": [
        "%%time\n",
        "y = x[:512, :512]"
      ],
      "execution_count": 13,
      "outputs": [
        {
          "output_type": "stream",
          "text": [
            "CPU times: user 13 µs, sys: 0 ns, total: 13 µs\n",
            "Wall time: 15 µs\n"
          ],
          "name": "stdout"
        }
      ]
    }
  ]
}